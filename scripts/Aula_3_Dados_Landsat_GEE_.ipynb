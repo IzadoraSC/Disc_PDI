{
  "nbformat": 4,
  "nbformat_minor": 0,
  "metadata": {
    "colab": {
      "provenance": []
    },
    "kernelspec": {
      "name": "python3",
      "display_name": "Python 3"
    },
    "language_info": {
      "name": "python"
    }
  },
  "cells": [
    {
      "cell_type": "markdown",
      "source": [
        "# ACESSANDO DADOS DO GOOGLE EARTH ENGINE - GEE\n",
        "1. Obtenção dos dados (utilizando GEE):\n",
        "  - Selecionar área de estudo;\n",
        "  - Obtendo dados multiespectrais;\n",
        "  - Exportando dados para o driver."
      ],
      "metadata": {
        "id": "5Go7qbSdUHME"
      }
    },
    {
      "cell_type": "markdown",
      "source": [
        "## Conectando Google Drive"
      ],
      "metadata": {
        "id": "S7CfwXI0VRNV"
      }
    },
    {
      "cell_type": "code",
      "source": [
        "# Conectando Google Drive\n",
        "from google.colab import drive\n",
        "drive.mount('/content/drive')"
      ],
      "metadata": {
        "id": "uR0WGmRxVQ8P"
      },
      "execution_count": null,
      "outputs": []
    },
    {
      "cell_type": "markdown",
      "source": [
        "## 1   Obtendo dados do Google Earth Engine (GEE).\n",
        "\n",
        "Obtendo as imagens/rasters:\n",
        "  - Dados Landsat\n",
        "  \n",
        "---"
      ],
      "metadata": {
        "id": "hJCojpv1VYBV"
      }
    },
    {
      "cell_type": "markdown",
      "source": [
        "## 2.Importação de bibliotecas e Autenticação no Earth Engine"
      ],
      "metadata": {
        "id": "IVo8P8eLVdpD"
      }
    },
    {
      "cell_type": "code",
      "execution_count": null,
      "metadata": {
        "id": "DiHuOXXEUDmd"
      },
      "outputs": [],
      "source": [
        "# Importar as bibliotecas\n",
        "import geemap\n",
        "import numpy as np\n",
        "import ee\n",
        "import pandas as pd\n",
        "\n",
        "import matplotlib.pyplot as plt"
      ]
    },
    {
      "cell_type": "code",
      "execution_count": null,
      "metadata": {
        "id": "AZHIX8lHq9vC"
      },
      "outputs": [],
      "source": [
        "# Autenticação padrão da conta do Google Earth Engine\n",
        "\n",
        "ee.Authenticate()\n",
        "ee.Initialize(project='ee-izadorasc')  ## 'project' é individual para cada usuário"
      ]
    },
    {
      "cell_type": "markdown",
      "source": [
        "## 3.Área de Estudo"
      ],
      "metadata": {
        "id": "OPEnO34GZG4l"
      }
    },
    {
      "cell_type": "code",
      "source": [
        "area = \"projects/ee-izadorasc/assets/MAPBIOMAS/bacia_lajeado\"\n",
        "roi = ee.FeatureCollection(area).geometry()\n",
        "\n",
        "center = roi.centroid().coordinates().getInfo()[::-1]  # [lat, lon]\n",
        "m = geemap.Map(center=center, zoom=7)\n",
        "m.addLayer(roi, {'color':'black'}, 'ROI - bacia_lajeado')\n",
        "m"
      ],
      "metadata": {
        "id": "_qaXfy8IZFTI"
      },
      "execution_count": null,
      "outputs": []
    },
    {
      "cell_type": "markdown",
      "source": [
        "## 4.**Informações sobre os sensores**\n",
        "\n",
        "**Reflectância de Superficíe:**\n",
        "\n",
        "Landsat 9 OLI (Out 31, 2021 - present)\n",
        "\n",
        "  USGS Landsat 9 Level 2, Collection 2, Tier 1\n",
        "  \n",
        "  sensor = \"LANDSAT/LC09/C02/T1_L2\"\n",
        "\n",
        "scale factor = 2.75e-05\n",
        "scale factor surface temperature = 0.00341802\n",
        "\n",
        "**Reflectância no Topo da Atmosfera:**\n",
        "\n",
        "Landsat 9 OLI (Out 31, 2021 - present)\n",
        "\n",
        "  USGS Landsat 9 Collection 2 Tier 1 TOA Reflectance\n",
        "  sensor = \"LANDSAT/LC09/C02/T1_TOA\""
      ],
      "metadata": {
        "id": "6DpkrggxZSPA"
      }
    },
    {
      "cell_type": "code",
      "source": [
        "#Visualização dos dados\n",
        "\n",
        "# Visualização composição de bandas - Landsat\n",
        "\n",
        "paletteVisLS9_SR = {\n",
        "  'min': 0,\n",
        "  'max': 0.4,\n",
        "  'gamma': 1,\n",
        "  'opacity': 1,\n",
        "  'bands': ['SR_B6', 'SR_B5', 'SR_B4']}\n",
        "\n",
        "paletteVisLS9_TOA = {\n",
        "  'min': 0,\n",
        "  'max': 0.4,\n",
        "  'gamma': 1,\n",
        "  'opacity': 1,\n",
        "  'bands': ['B6', 'B5', 'B4']}\n"
      ],
      "metadata": {
        "id": "WW2LiOVuaWuE"
      },
      "execution_count": null,
      "outputs": []
    },
    {
      "cell_type": "code",
      "source": [
        "## Landsat 4, 5, 7, 8 and 9 for SR data\n",
        "def maskLSclouds(image):\n",
        "\n",
        "  # Os bits 3 e 5 são a sombra da nuvem e a nuvem, respetivamente, para os produtos Landsat 4-5-7-8 e 9 SR\n",
        "  # Aqui definimos os valores dos bits em valores de bytes.\n",
        "\n",
        "# Criando uma função para mascarar pixéis de nuvens e sombras de nuvens\n",
        "# 1 corresponde a céu limpo\n",
        "# 3 corresponde a sombra de nuvem\n",
        "# 5 corresponde a nuvem\n",
        "\n",
        "  #cloudShadowBitMask = ee.Number(1).pow(3).int()\n",
        "  #cloudsBitMask = ee.Number(1).pow(5).int()\n",
        "  qaMask = image.select('QA_PIXEL').bitwise_and(int('11111', 2)).eq(0)\n",
        "  saturationMask = image.select('QA_RADSAT').eq(0)\n",
        "\n",
        "  # Obter a banda de pixel QA da coleção.\n",
        "  #qa = image.select('QA_PIXEL')\n",
        "\n",
        "  ###Fator de escala\n",
        "  #opticalBands = image.select('SR_B.').multiply(0.0000275).add(-0.2)\n",
        "\n",
        "  ###Fator de escala\n",
        "  opticalBands = image.select('SR_B.').multiply(0.0000275).add(-0.2)\n",
        "  thermalBands = image.select('ST_B.*').multiply(0.00341802).add(149.0)\n",
        "\n",
        "  ##Produto resultante\n",
        "  return image.addBands(opticalBands, None, True)\\\n",
        "  .addBands(thermalBands, None, True).updateMask(qaMask)\\\n",
        "  .updateMask(saturationMask)\n"
      ],
      "metadata": {
        "id": "EfPo-YbSaeRp"
      },
      "execution_count": null,
      "outputs": []
    },
    {
      "cell_type": "markdown",
      "source": [
        "#### **Imagens Landsat SR**"
      ],
      "metadata": {
        "id": "YHiepXeEaif0"
      }
    },
    {
      "cell_type": "code",
      "source": [
        "# Definindo a coleção do LANDSAT\n",
        "\n",
        "sensor = \"LANDSAT/LC09/C02/T1_L2\"\n",
        "\n",
        "# Data\n",
        "date_range = ['2024-01-01', '2024-12-31']\n",
        "\n",
        "\n",
        "# Carregando dados\n",
        "sr_collection = ee.ImageCollection(sensor) \\\n",
        "    .filterBounds(roi)\\\n",
        "    .filter(ee.Filter.lt('CLOUD_COVER', 1))\\\n",
        "    .filterDate(date_range[0], date_range[1])\n",
        "\n",
        "# Define wet and dry season subsets\n",
        "\n",
        "\n",
        "# Map the maskLSclouds function over each seasonal dataset and take the median of clear pixels.\n",
        "img_comp = sr_collection.map(maskLSclouds).median()\n",
        "# img_comp = sr_collection.median()\n",
        "\n",
        "# Clip the composite images to the Region of Interest\n",
        "clip_img_comp = img_comp.clip(roi)\n",
        "\n",
        "\n",
        "# Carregando propriedades da visualização\n",
        "Map = geemap.Map(center=center, zoom=10)\n",
        "\n",
        "Map.addLayer(clip_img_comp, paletteVisLS9_SR, 'LS9-SR')\n",
        "\n",
        "# Visualizando\n",
        "Map.addLayerControl()\n",
        "Map\n"
      ],
      "metadata": {
        "id": "U7NTZ977aqkO"
      },
      "execution_count": null,
      "outputs": []
    },
    {
      "cell_type": "code",
      "source": [
        "#Exportando imagem para o driver\n",
        "\n",
        "task = ee.batch.Export.image.toDrive(\n",
        "    image=clip_img_comp.select('SR_B2', 'SR_B3', 'SR_B4', 'SR_B5', 'SR_B6', 'SR_B7'),\n",
        "    description='Img_Landsat9_bcLajeado_2024', #nome do arquivo de imagem que será salvo\n",
        "    folder='GEE_Exports', #nome da pasta que o raster (imagem) será salva no driver\n",
        "    fileNamePrefix='Img_Landsat9_bcLajeado_2024',\n",
        "    region=roi, #limite da área de estudo\n",
        "    fileFormat= \"GeoTIFF\",\n",
        "    crs= \"EPSG:4326\", #WGS84 - World Geodetic System 1984\n",
        "    scale=30, #escala espacial da imagem em metros\n",
        "    maxPixels=1e13\n",
        ")\n",
        "\n",
        "task.start()\n",
        "print(\"Exportação imagem Landsat iniciada (Para a Pasta no Drive -> GEE_Exports).\")"
      ],
      "metadata": {
        "id": "cmQJdX10c6a3"
      },
      "execution_count": null,
      "outputs": []
    },
    {
      "cell_type": "markdown",
      "source": [
        "#### **Imagens Landsat TOA**"
      ],
      "metadata": {
        "id": "CEXebtY8apBo"
      }
    },
    {
      "cell_type": "code",
      "source": [
        "# Definindo a coleção do LANDSAT\n",
        "\n",
        "sensor = \"LANDSAT/LC09/C02/T1_TOA\"\n",
        "\n",
        "# Data\n",
        "date_range = ['2024-01-01', '2024-12-31']\n",
        "\n",
        "\n",
        "# Carregando dados\n",
        "sr_collection = ee.ImageCollection(sensor) \\\n",
        "    .filterBounds(roi)\\\n",
        "    .filter(ee.Filter.lt('CLOUD_COVER', 1))\\\n",
        "    .filterDate(date_range[0], date_range[1])\n",
        "\n",
        "# Define wet and dry season subsets\n",
        "\n",
        "\n",
        "# Map the maskLSclouds function over each seasonal dataset and take the median of clear pixels.\n",
        "img_comp_toa = sr_collection.median()\n",
        "\n",
        "# Clip the composite images to the Region of Interest\n",
        "clip_img_comp_toa = img_comp_toa.clip(roi)\n",
        "\n",
        "\n",
        "# Carregando propriedades da visualização\n",
        "Map = geemap.Map(center=center, zoom=10)\n",
        "\n",
        "Map.addLayer(clip_img_comp_toa, paletteVisLS9_TOA, 'LS9-TOA')\n",
        "\n",
        "# Visualizando\n",
        "Map.addLayerControl()\n",
        "Map\n"
      ],
      "metadata": {
        "id": "O-7C0zMeff6X"
      },
      "execution_count": null,
      "outputs": []
    },
    {
      "cell_type": "code",
      "source": [
        "#Exportando imagem para o driver\n",
        "\n",
        "task = ee.batch.Export.image.toDrive(\n",
        "    image=clip_img_comp_toa.select('B2', 'B3', 'B4', 'B5', 'B6', 'B7'),\n",
        "    description='Img_Landsat9_TOA_bcLajeado_2024', #nome do arquivo de imagem que será salvo\n",
        "    folder='GEE_Exports', #nome da pasta que o raster (imagem) será salva no driver\n",
        "    fileNamePrefix='Img_Landsat9_TOA_bcLajeado_2024',\n",
        "    region=roi, #limite da área de estudo\n",
        "    fileFormat= \"GeoTIFF\",\n",
        "    crs= \"EPSG:4326\", #WGS84 - World Geodetic System 1984\n",
        "    scale=30, #escala espacial da imagem em metros\n",
        "    maxPixels=1e13\n",
        ")\n",
        "\n",
        "task.start()\n",
        "print(\"Exportação imagem Landsat iniciada (Para a Pasta no Drive -> GEE_Exports).\")"
      ],
      "metadata": {
        "id": "8nFgNwZChjs7"
      },
      "execution_count": null,
      "outputs": []
    },
    {
      "cell_type": "code",
      "source": [
        "# Mapa comparativo - SR e TOA\n",
        "\n",
        "left_layer = geemap.ee_tile_layer(clip_img_comp, paletteVisLS9_SR, 'LS9-SR')\n",
        "right_layer = geemap.ee_tile_layer(clip_img_comp_toa, paletteVisLS9_TOA, 'LS9-TOA')\n",
        "\n",
        "Map = geemap.Map(center=center, zoom=10)\n",
        "\n",
        "Map.split_map(left_layer, right_layer)\n",
        "Map"
      ],
      "metadata": {
        "id": "P4_LAt65hIVq"
      },
      "execution_count": null,
      "outputs": []
    }
  ]
}