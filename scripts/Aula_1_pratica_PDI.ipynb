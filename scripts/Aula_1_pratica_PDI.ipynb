{
  "nbformat": 4,
  "nbformat_minor": 0,
  "metadata": {
    "colab": {
      "provenance": []
    },
    "kernelspec": {
      "name": "python3",
      "display_name": "Python 3"
    },
    "language_info": {
      "name": "python"
    }
  },
  "cells": [
    {
      "cell_type": "markdown",
      "source": [
        "#Instalando bibliotecas/pacotes"
      ],
      "metadata": {
        "id": "y0cDAUA62fXJ"
      }
    },
    {
      "cell_type": "code",
      "execution_count": null,
      "metadata": {
        "id": "30Br4wz1tZTf"
      },
      "outputs": [],
      "source": [
        "#Instalando\n",
        "!pip install rasterio spectral -q"
      ]
    },
    {
      "cell_type": "markdown",
      "source": [
        "# Leitura do arquivo"
      ],
      "metadata": {
        "id": "IiBjTEGZyxkP"
      }
    },
    {
      "cell_type": "code",
      "source": [
        "# Importando Bibliotecas\n",
        "import numpy as np\n",
        "import rasterio as rio\n",
        "from spectral import imshow\n",
        "import matplotlib.pyplot as plt\n",
        "from rasterio.plot import reshape_as_image\n",
        "from osgeo import gdal\n",
        "import pandas as pd"
      ],
      "metadata": {
        "id": "QyopXFWQuT_U"
      },
      "execution_count": null,
      "outputs": []
    },
    {
      "cell_type": "code",
      "source": [
        "# Leitura do arquivo de imagem\n",
        "img = '/content/L71221071_07120010720_DN.tif'"
      ],
      "metadata": {
        "id": "7JUzsOBavVRj"
      },
      "execution_count": null,
      "outputs": []
    },
    {
      "cell_type": "code",
      "source": [
        "# Rasterio\n",
        "with rio.open(img) as src:\n",
        "  meta = src.profile\n",
        "  array_rasterio = reshape_as_image(src.read())"
      ],
      "metadata": {
        "id": "8eGFS_VIwGRe"
      },
      "execution_count": null,
      "outputs": []
    },
    {
      "cell_type": "code",
      "source": [
        "print(meta)"
      ],
      "metadata": {
        "id": "H6dbPPfAyjqy"
      },
      "execution_count": null,
      "outputs": []
    },
    {
      "cell_type": "markdown",
      "source": [
        "# Visualização"
      ],
      "metadata": {
        "id": "iPTYBDW_z3wo"
      }
    },
    {
      "cell_type": "code",
      "source": [
        "# Visualização\n",
        "imshow(array_rasterio,(2,1,0), stretch=(0.02,0.98))"
      ],
      "metadata": {
        "id": "S49ypMUzzCAl"
      },
      "execution_count": null,
      "outputs": []
    },
    {
      "cell_type": "code",
      "source": [
        "def stretch(img, percent_ini=2, percent_end=98):\n",
        "\n",
        "  s = np.zeros_like(img)\n",
        "  x,y = np.min(img), np.max(img)\n",
        "  w = np.percentile(img, percent_ini)\n",
        "  z = np.percentile(img, percent_end)\n",
        "\n",
        "  f = x + (img - w) * (y - x) / (z - w)\n",
        "\n",
        "  f[f < x] = x\n",
        "  f[f > y] = y\n",
        "  s = f\n",
        "\n",
        "  return s\n"
      ],
      "metadata": {
        "id": "zC-WSgxa5amZ"
      },
      "execution_count": null,
      "outputs": []
    },
    {
      "cell_type": "code",
      "source": [
        "# Visualizando bandas separadas\n",
        "fig, axes = plt.subplots(2,3, figsize=(10,8))\n",
        "\n",
        "axes = axes.ravel()\n",
        "\n",
        "for i in range(array_rasterio.shape[2]):\n",
        "  axes[i].imshow(stretch(array_rasterio[:,:,i]), cmap = 'gray')\n",
        "  axes[i].set_title('Banda' + str(i+1), fontsize=10)\n",
        "  axes[i].axis('off')\n",
        "plt.show()"
      ],
      "metadata": {
        "id": "M8noAlM06XsT"
      },
      "execution_count": null,
      "outputs": []
    },
    {
      "cell_type": "code",
      "source": [
        "# Visualizando histogramas\n",
        "\n",
        "colors = ['Blue', 'Green', 'Red', 'Maroon', 'Purple', 'Pink']\n",
        "fig, axes = plt.subplots(2,3, figsize=(15,8))\n",
        "\n",
        "axes = axes.ravel()\n",
        "\n",
        "for i in range(array_rasterio.shape[2]):\n",
        "  axes[i].hist(array_rasterio[:,:,i].flatten(), bins=50, color= colors[i])\n",
        "  axes[i].set_title('Histograma da Banda' + str(i+1), fontsize=10)\n",
        "plt.show()"
      ],
      "metadata": {
        "id": "Z796AniQ8xf6"
      },
      "execution_count": null,
      "outputs": []
    },
    {
      "cell_type": "code",
      "source": [
        "array_rasterio.reshape(array_rasterio.shape[0]*array_rasterio.shape[1], array_rasterio.shape[2]).shape"
      ],
      "metadata": {
        "id": "stuVZvjU3FfY"
      },
      "execution_count": null,
      "outputs": []
    },
    {
      "cell_type": "code",
      "source": [
        "# Criando pandas Dataframe\n",
        "df = pd.DataFrame(array_rasterio.reshape(array_rasterio.shape[0]*array_rasterio.shape[1], array_rasterio.shape[2]),\n",
        "columns = ['B1', 'B2', 'B3','B4', 'B5', 'B6'])\n",
        "df.head()"
      ],
      "metadata": {
        "id": "hc97kws_CSH9"
      },
      "execution_count": null,
      "outputs": []
    },
    {
      "cell_type": "code",
      "source": [
        "# Matriz de correlação\n",
        "corr = df.corr()\n",
        "\n",
        "fig = plt.figure(figsize=(20,20))\n",
        "\n",
        "plt.matshow(corr)\n",
        "plt.colorbar()\n",
        "plt.title('Matriz de correlação')\n",
        "plt.xticks(range(len(corr.columns)), corr.columns, rotation = 45)\n",
        "plt.yticks(range(len(corr.columns)), corr.columns, rotation = 45)\n",
        "\n",
        "# Colocando rótulos na matriz\n",
        "for i in range(len(corr.columns)):\n",
        "    for j in range(len(corr.columns)):\n",
        "        text = plt.text(j, i, round(corr.iloc[i, j],2),\n",
        "                       ha=\"center\", va=\"center\", color=\"Black\")\n",
        "\n",
        "plt.show()"
      ],
      "metadata": {
        "id": "83ck3i4g45xC"
      },
      "execution_count": null,
      "outputs": []
    },
    {
      "cell_type": "code",
      "source": [
        "# Matriz de covariância\n",
        "cov = df.cov()\n",
        "\n",
        "fig = plt.figure(figsize=(20,20))\n",
        "\n",
        "plt.matshow(cov)\n",
        "plt.colorbar()\n",
        "plt.title('Matriz de covariância')\n",
        "plt.xticks(range(len(cov.columns)), cov.columns, rotation = 45)\n",
        "plt.yticks(range(len(cov.columns)), cov.columns, rotation = 45)\n",
        "\n",
        "# Colocando rótulos na matriz\n",
        "for i in range(len(cov.columns)):\n",
        "    for j in range(len(cov.columns)):\n",
        "        text = plt.text(j, i, round(cov.iloc[i, j],2),\n",
        "                       ha=\"center\", va=\"center\", color=\"Black\")\n",
        "\n",
        "plt.show()"
      ],
      "metadata": {
        "id": "kvpR9O105Iwe"
      },
      "execution_count": null,
      "outputs": []
    },
    {
      "cell_type": "markdown",
      "source": [
        "# Operações raster"
      ],
      "metadata": {
        "id": "H5Bj3Cj--rho"
      }
    },
    {
      "cell_type": "code",
      "source": [
        "# índices espectrais\n",
        "\n",
        "NDVI = (array_rasterio[...,3] - array_rasterio[...,2]) / (array_rasterio[...,3] + array_rasterio[...,2])\n",
        "NDWI = (array_rasterio[...,1] - array_rasterio[...,3]) / (array_rasterio[...,1] + array_rasterio[...,3])"
      ],
      "metadata": {
        "id": "Sit71ynM_XEc"
      },
      "execution_count": null,
      "outputs": []
    },
    {
      "cell_type": "code",
      "source": [
        "# visualização\n",
        "\n",
        "fig, axes = plt.subplots(1,2, figsize=(15,10))\n",
        "axes = axes.ravel()\n",
        "\n",
        "# NDVI\n",
        "im0 = axes[0].imshow(stretch(NDVI), cmap = 'RdYlGn')\n",
        "axes[0].set_title('NDVI', fontsize=10)\n",
        "axes[0].axis('off')\n",
        "fig.colorbar(im0, ax=axes[0], fraction=0.046, pad=0.04)\n",
        "\n",
        "# NDWI\n",
        "im1 = axes[1].imshow(stretch(NDWI), cmap = 'Blues')\n",
        "axes[1].set_title('NDWI', fontsize=10)\n",
        "axes[1].axis('off')\n",
        "fig.colorbar(im1, ax=axes[1], fraction=0.046, pad=0.04)\n"
      ],
      "metadata": {
        "id": "tIce5ebxBK-W"
      },
      "execution_count": null,
      "outputs": []
    },
    {
      "cell_type": "code",
      "source": [
        "# Histograma do NDVI\n",
        "plt.hist(np.clip(NDVI.flatten(), -1,1), bins=50)\n",
        "plt.title('Histograma do NDVI')\n",
        "plt.show()"
      ],
      "metadata": {
        "id": "kWd7PGNCBv9m"
      },
      "execution_count": null,
      "outputs": []
    },
    {
      "cell_type": "markdown",
      "source": [
        "# Classificação não-supervisionada\n"
      ],
      "metadata": {
        "id": "LJfO5vazHze8"
      }
    },
    {
      "cell_type": "code",
      "source": [
        "# Reformatando dimensões\n",
        "data = array_rasterio.reshape(array_rasterio.shape[0]*array_rasterio.shape[1], array_rasterio.shape[2])"
      ],
      "metadata": {
        "id": "XiZLYmj7H4Qe"
      },
      "execution_count": null,
      "outputs": []
    },
    {
      "cell_type": "code",
      "source": [
        "from sklearn.cluster import KMeans"
      ],
      "metadata": {
        "id": "BoMHvAHIIF2W"
      },
      "execution_count": null,
      "outputs": []
    },
    {
      "cell_type": "code",
      "source": [
        "# Método do cotovelo\n",
        "wcss = []\n",
        "for i in range(1,11):\n",
        "  k_means = KMeans(n_clusters=i, max_iter = 30, random_state = 10)\n",
        "  k_means.fit(data)\n",
        "  wcss.append(k_means.inertia_)\n",
        "\n",
        "plt.plot(range(1,11), wcss)\n",
        "plt.title('Método do cotovelo')\n",
        "plt.xlabel('Número de clusters')\n",
        "plt.ylabel('WCSS')\n",
        "plt.show()"
      ],
      "metadata": {
        "id": "JR1xbWreJOJA"
      },
      "execution_count": null,
      "outputs": []
    },
    {
      "cell_type": "code",
      "source": [
        "# Rodando o kmeans\n",
        "k_means = KMeans(n_clusters=6, max_iter = 50, random_state = 10)\n",
        "k_means.fit(data)\n",
        "\n",
        "labels = k_means.labels_\n",
        "pred = labels.reshape(array_rasterio.shape[0], array_rasterio.shape[1])"
      ],
      "metadata": {
        "id": "A-4Bt4a_IXDw"
      },
      "execution_count": null,
      "outputs": []
    },
    {
      "cell_type": "code",
      "source": [
        "# Visualizar resultado\n",
        "plt.imshow(pred, cmap = 'Spectral_r')\n",
        "plt.show()"
      ],
      "metadata": {
        "id": "3nPUlo-2I8Yd"
      },
      "execution_count": null,
      "outputs": []
    },
    {
      "cell_type": "code",
      "source": [
        "# Gravar resultado em disco\n",
        "meta.update(count=1)\n",
        "with rio.open('kmeans.tif', 'w', **meta) as dst:\n",
        "  dst.write(pred,1)"
      ],
      "metadata": {
        "id": "qXNut8IPN70M"
      },
      "execution_count": null,
      "outputs": []
    }
  ]
}